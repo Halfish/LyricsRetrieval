{
 "cells": [
  {
   "cell_type": "code",
   "execution_count": 1,
   "metadata": {
    "collapsed": true
   },
   "outputs": [],
   "source": [
    "from wmd import WMD"
   ]
  },
  {
   "cell_type": "code",
   "execution_count": 2,
   "metadata": {
    "collapsed": false
   },
   "outputs": [],
   "source": [
    "w2v_model_path = 'word2vec_models/word2vec_60.bin.gz'\n",
    "wmd = WMD(w2v_model_path, 60)"
   ]
  },
  {
   "cell_type": "code",
   "execution_count": 4,
   "metadata": {
    "collapsed": false
   },
   "outputs": [
    {
     "name": "stdout",
     "output_type": "stream",
     "text": [
      "17063\n",
      "256.791420937\n"
     ]
    }
   ],
   "source": [
    "import time\n",
    "import json\n",
    "query = u'艺林 只 祝福 有情人   歌曲名   遥远 的 孤单   演唱   胡斌   今夜 的 月光 特别 明亮   而 我 的 心 却 一片 荒凉   你 想 的 夜 总 那么 漫长   看不清 来时 路在何方   昨夜 我 梦回 旧日 时光   在 你 的 身边 静静的 躺   我们 曾 一起 轻轻 的 唱   唱 着 那 未来 的 美好 梦想   也 曾 想 和 你 去 任何 地方   也 曾 想 和 你 一起 流浪   梦醒 却 看不见 你 的 摸样   只 剩 我 一个 人 孤独 欣赏   有 一种 感觉 叫 孤单   有 一种 距离 太 遥远   如今 你 不 在 我 身边   只能 让 思念 嘱托 远方   今夜 的 月光 特别 明亮   而 我 的 心 却 一片 荒凉   你 想 的 夜 总 那么 漫长   看不清 来时 路在何方   昨夜 我 梦回 旧日 时光   在 你 的 身边 静静的 躺   我们 曾 一起 轻轻 的 唱   唱 着 那 未来 的 美好 梦想   也 曾 想 和 你 去 任何 地方   也 曾 想 和 你 一起 流浪   梦醒 却 看不见 你 的 摸样   只 剩 我 一个 人 孤独 欣赏   有 一种 感觉 叫 孤单   有 一种 距离 太 遥远   如今 你 不 在 我 身边   只能 让 思念 嘱托 远方'\n",
    "with open('/data/lindayong/lyrics.json_processed_jieba', 'r') as f:\n",
    "    cnt = 0\n",
    "    start_time = time.time()\n",
    "    for line in f.readlines():\n",
    "        lyrics = json.loads(line.strip())['lyrics_jieba']\n",
    "        wmd.calc_wmd(query, ' '.join(lyrics))\n",
    "        cnt += 1\n",
    "    print cnt\n",
    "    print time.time() - start_time\n",
    "        \n",
    "        "
   ]
  },
  {
   "cell_type": "code",
   "execution_count": null,
   "metadata": {
    "collapsed": true
   },
   "outputs": [],
   "source": []
  }
 ],
 "metadata": {
  "kernelspec": {
   "display_name": "Python 2",
   "language": "python",
   "name": "python2"
  },
  "language_info": {
   "codemirror_mode": {
    "name": "ipython",
    "version": 2
   },
   "file_extension": ".py",
   "mimetype": "text/x-python",
   "name": "python",
   "nbconvert_exporter": "python",
   "pygments_lexer": "ipython2",
   "version": "2.7.12"
  }
 },
 "nbformat": 4,
 "nbformat_minor": 1
}
